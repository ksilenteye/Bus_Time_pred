{
 "cells": [
  {
   "cell_type": "code",
   "execution_count": 1,
   "id": "7a89a0e5-a19c-4cd0-af93-588252cec259",
   "metadata": {},
   "outputs": [
    {
     "name": "stderr",
     "output_type": "stream",
     "text": [
      "2024-08-29 14:35:33.532 \n",
      "  \u001b[33m\u001b[1mWarning:\u001b[0m to view this Streamlit app on a browser, run it with the following\n",
      "  command:\n",
      "\n",
      "    streamlit run C:\\Users\\kb290\\AppData\\Local\\Packages\\PythonSoftwareFoundation.Python.3.11_qbz5n2kfra8p0\\LocalCache\\local-packages\\Python311\\site-packages\\ipykernel_launcher.py [ARGUMENTS]\n",
      "2024-08-29 14:35:33.534 Session state does not function when running a script without `streamlit run`\n"
     ]
    }
   ],
   "source": [
    "import streamlit as st\n",
    "import numpy as np\n",
    "from joblib import load\n",
    "\n",
    "model = load('model.joblib')\n",
    "label_encoder_day = load('day_encoder.joblib')\n",
    "label_encoder_route = load('route_encoder.joblib')\n",
    "\n",
    "st.title(\"Trip End Time Prediction\")\n",
    "\n",
    "Sch_Start_Hour = st.number_input(\"Scheduled Start Hour\", min_value=0, max_value=23)\n",
    "Sch_Start_Minute = st.number_input(\"Scheduled Start Minute\", min_value=0, max_value=59)\n",
    "Operated_Day = st.selectbox(\"Operated Day\", label_encoder_day.classes_)\n",
    "Route_Name = st.selectbox(\"Route Name\", label_encoder_route.classes_)\n",
    "\n",
    "Operated_Day_Encoded = label_encoder_day.transform([Operated_Day])[0]\n",
    "Route_Name_Encoded = label_encoder_route.transform([Route_Name])[0]\n",
    "\n",
    "input_features = np.array([[Sch_Start_Hour, Sch_Start_Minute, Operated_Day_Encoded, Route_Name_Encoded]])\n",
    "\n",
    "if st.button(\"Predict\"):\n",
    "    predicted_time_minutes = model.predict(input_features)[0]\n",
    "    \n",
    "    end_hour = Sch_Start_Hour + int(predicted_time_minutes // 60)\n",
    "    end_minute = Sch_Start_Minute + int(predicted_time_minutes % 60)\n",
    "    \n",
    "    if end_minute >= 60:\n",
    "        end_hour += 1\n",
    "        end_minute -= 60\n",
    "    \n",
    "    if end_hour >= 24:\n",
    "        end_hour -= 24\n",
    "\n",
    "        end_hour = -end_hour\n",
    "    \n",
    "    st.write(f\"Predicted Trip End Time (in minutes): {predicted_time_minutes:.2f} minutes\")\n",
    "    st.write(f\"Scheduled Start Time: {Sch_Start_Hour:02d}:{Sch_Start_Minute:02d}\")\n",
    "    \n",
    "    if end_hour < 0:\n",
    "        st.write(f\"Estimated Arrival Time: -{abs(end_hour):02d}:{abs(end_minute):02d} (next day)\")\n",
    "    else:\n",
    "        st.write(f\"Estimated Arrival Time: {end_hour:02d}:{end_minute:02d}\")\n",
    "\n",
    "    decoded_day = label_encoder_day.inverse_transform([Operated_Day_Encoded])[0]\n",
    "    decoded_route = label_encoder_route.inverse_transform([Route_Name_Encoded])[0]\n",
    "    st.write(f\"Operated Day: {decoded_day}\")\n",
    "    st.write(f\"Route Name: {decoded_route}\")\n"
   ]
  },
  {
   "cell_type": "code",
   "execution_count": null,
   "id": "3ef3da6a-8983-495e-a3cf-385c954587df",
   "metadata": {},
   "outputs": [],
   "source": []
  }
 ],
 "metadata": {
  "kernelspec": {
   "display_name": "Python 3 (ipykernel)",
   "language": "python",
   "name": "python3"
  },
  "language_info": {
   "codemirror_mode": {
    "name": "ipython",
    "version": 3
   },
   "file_extension": ".py",
   "mimetype": "text/x-python",
   "name": "python",
   "nbconvert_exporter": "python",
   "pygments_lexer": "ipython3",
   "version": "3.11.9"
  }
 },
 "nbformat": 4,
 "nbformat_minor": 5
}
